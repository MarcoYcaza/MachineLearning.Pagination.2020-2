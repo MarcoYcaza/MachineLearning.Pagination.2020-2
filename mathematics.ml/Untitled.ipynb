{
 "cells": [
  {
   "cell_type": "code",
   "execution_count": 3,
   "metadata": {},
   "outputs": [],
   "source": [
    "# define distributions\n",
    "events = ['red', 'green', 'blue']\n",
    "target = [0.90, 0.40, 0.50]\n",
    "prediction = [0.89, 0.35, 0.49]"
   ]
  },
  {
   "cell_type": "code",
   "execution_count": 13,
   "metadata": {},
   "outputs": [
    {
     "name": "stdout",
     "output_type": "stream",
     "text": [
      "target=1.800 prediction=1.730\n"
     ]
    },
    {
     "data": {
      "image/png": "[encoded data removed]",
      "text/plain": [
       "<Figure size 432x288 with 2 Axes>"
      ]
     },
     "metadata": {
      "needs_background": "light"
     },
     "output_type": "display_data"
    }
   ],
   "source": [
    "# plot of distributions\n",
    "from matplotlib import pyplot\n",
    "# define distributions\n",
    "events = ['red', 'green', 'blue']\n",
    "target = [0.90, 0.40, 0.50]\n",
    "prediction = [0.89, 0.39, 0.49]\n",
    "print('target=%.3f prediction=%.3f' % (sum(target), sum(prediction)))\n",
    "# plot first distribution\n",
    "pyplot.subplot(2,1,1)\n",
    "pyplot.bar(events, target)\n",
    "# plot second distribution\n",
    "pyplot.subplot(2,1,2)\n",
    "pyplot.bar(events, prediction)\n",
    "# show the plot\n",
    "pyplot.show()"
   ]
  },
  {
   "cell_type": "code",
   "execution_count": 36,
   "metadata": {},
   "outputs": [
    {
     "name": "stdout",
     "output_type": "stream",
     "text": [
      "H(target, target): 1.44516812 bits\n",
      "H(target, prediction): 2.05276352 bits\n"
     ]
    }
   ],
   "source": [
    "from math import log2\n",
    " \n",
    "# fórmula para calcular la entroía cruzada\n",
    "def cross_entropy(predicted_distribution, target_distribution):\n",
    "    return -sum([target_distribution[i]*log2(predicted_distribution[i]) for i in range(len(predicted_distribution))])\n",
    " \n",
    "# definimos las distribuciones\n",
    "target = [0.90, 0.40, 0.50,0.78]\n",
    "prediction= [0.45, 0.3999, 0.6,0.9]\n",
    "\n",
    "# calculamos la entroía cruzada target vs target = entroía target\n",
    "ce_tt = cross_entropy(target, target)\n",
    "print('H(target, target): %.8f bits' % ce_tt)\n",
    "# Entroía cruzada de H(predicction, target)\n",
    "ce_tp = cross_entropy(prediction, target)\n",
    "print('H(target, prediction): %.8f bits' % ce_tp)"
   ]
  },
  {
   "cell_type": "code",
   "execution_count": 32,
   "metadata": {},
   "outputs": [],
   "source": [
    "lista = [1,2,3,4]"
   ]
  },
  {
   "cell_type": "code",
   "execution_count": 33,
   "metadata": {},
   "outputs": [
    {
     "data": {
      "text/plain": [
       "10"
      ]
     },
     "execution_count": 33,
     "metadata": {},
     "output_type": "execute_result"
    }
   ],
   "source": [
    "sum(lista)"
   ]
  },
  {
   "cell_type": "code",
   "execution_count": null,
   "metadata": {},
   "outputs": [],
   "source": []
  }
 ],
 "metadata": {
  "kernelspec": {
   "display_name": "Python 3",
   "language": "python",
   "name": "python3"
  },
  "language_info": {
   "codemirror_mode": {
    "name": "ipython",
    "version": 3
   },
   "file_extension": ".py",
   "mimetype": "text/x-python",
   "name": "python",
   "nbconvert_exporter": "python",
   "pygments_lexer": "ipython3",
   "version": "3.7.6"
  }
 },
 "nbformat": 4,
 "nbformat_minor": 4
}
